{
 "cells": [
  {
   "cell_type": "markdown",
   "metadata": {},
   "source": [
    "# Vizualizing BigQuery data in a Jupyter notebook\n",
    "\n",
    "[BigQuery](https://cloud.google.com/bigquery/docs/) is a petabyte-scale analytics data warehouse that you can use to run SQL queries over vast amounts of data in near realtime.\n",
    "\n",
    "Data visualization tools can help you make sense of your BigQuery data and help you analyze the data interactively. You can use visualization tools to help you identify trends, respond to them, and make predictions using your data. In this tutorial, you use the BigQuery Python client library and pandas in a Jupyter notebook to visualize data in the BigQuery natality sample table."
   ]
  },
  {
   "cell_type": "markdown",
   "metadata": {},
   "source": [
    "## Using Jupyter magics to query BigQuery data\n",
    "\n",
    "The BigQuery Python client library provides a magic command that allows you to run queries with minimal code.\n",
    "\n",
    "The BigQuery client library provides a cell magic, `%%bigquery`. The `%%bigquery` magic runs a SQL query and returns the results as a pandas `DataFrame`. The following cell executes a query of the BigQuery natality public dataset and returns the total births by year."
   ]
  },
  {
   "cell_type": "code",
   "execution_count": 216,
   "metadata": {},
   "outputs": [
    {
     "name": "stdout",
     "output_type": "stream",
     "text": [
      "The google.cloud.bigquery extension is already loaded. To reload it, use:\n",
      "  %reload_ext google.cloud.bigquery\n"
     ]
    }
   ],
   "source": [
    "\n",
    "%load_ext google.cloud.bigquery"
   ]
  },
  {
   "cell_type": "markdown",
   "metadata": {
    "colab_type": "text",
    "id": "WjtNmj4n4Kfb"
   },
   "source": [
    "# Install necessary libraries "
   ]
  },
  {
   "cell_type": "code",
   "execution_count": null,
   "metadata": {},
   "outputs": [],
   "source": [
    "!pip install google-cloud-bigquery\n",
    "!pip install google-cloud-bigquery-storage"
   ]
  },
  {
   "cell_type": "code",
   "execution_count": null,
   "metadata": {},
   "outputs": [],
   "source": [
    "!pip install --user --upgrade google-api-python-client\n",
    "!pip install --upgrade google-cloud-storage"
   ]
  },
  {
   "cell_type": "code",
   "execution_count": 214,
   "metadata": {},
   "outputs": [
    {
     "name": "stdout",
     "output_type": "stream",
     "text": [
      "The google.cloud.bigquery extension is already loaded. To reload it, use:\n",
      "  %reload_ext google.cloud.bigquery\n"
     ]
    }
   ],
   "source": [
    "load_ext google.cloud.bigquery"
   ]
  },
  {
   "cell_type": "markdown",
   "metadata": {},
   "source": [
    "# Import neccessary libararies"
   ]
  },
  {
   "cell_type": "code",
   "execution_count": 213,
   "metadata": {
    "colab": {},
    "colab_type": "code",
    "id": "PLfVNL64UBTU"
   },
   "outputs": [],
   "source": [
    "import pandas as pd"
   ]
  },
  {
   "cell_type": "code",
   "execution_count": 215,
   "metadata": {},
   "outputs": [],
   "source": [
    "\n",
    "import google.auth\n",
    "from google.cloud import bigquery\n",
    "#from google.cloud import google_cloud_bigquery_storage\n",
    "from google.cloud import bigquery\n",
    "from google.cloud import storage\n",
    "\n",
    "client = bigquery.Client()"
   ]
  },
  {
   "cell_type": "markdown",
   "metadata": {},
   "source": [
    "## Using Python to query BigQuery data\n",
    "\n",
    "Behind the scenes, `%%bigquery` uses the BigQuery Python client library to run the given query, convert the results to a pandas `Dataframe`, optionally save the results to a variable, and finally display the results. Using the BigQuery Python client library directly instead of through magic commands gives you more control over your queries and allows for more complex configurations. The library's integrations with pandas enable you to combine the power of declarative SQL with imperative code (Python) to perform interesting data analysis, visualization, and transformation tasks.\n",
    "\n",
    "To use the BigQuery Python client library, start by importing the library and initializing a client. The BigQuery client is used to send and receive messages from the BigQuery API."
   ]
  },
  {
   "cell_type": "code",
   "execution_count": 219,
   "metadata": {},
   "outputs": [
    {
     "name": "stdout",
     "output_type": "stream",
     "text": [
      "The google.cloud.bigquery extension is already loaded. To reload it, use:\n",
      "  %reload_ext google.cloud.bigquery\n"
     ]
    }
   ],
   "source": [
    "from google.cloud import bigquery\n",
    "%load_ext google.cloud.bigquery"
   ]
  },
  {
   "cell_type": "code",
   "execution_count": 220,
   "metadata": {},
   "outputs": [
    {
     "data": {
      "text/html": [
       "<div>\n",
       "<style scoped>\n",
       "    .dataframe tbody tr th:only-of-type {\n",
       "        vertical-align: middle;\n",
       "    }\n",
       "\n",
       "    .dataframe tbody tr th {\n",
       "        vertical-align: top;\n",
       "    }\n",
       "\n",
       "    .dataframe thead th {\n",
       "        text-align: right;\n",
       "    }\n",
       "</style>\n",
       "<table border=\"1\" class=\"dataframe\">\n",
       "  <thead>\n",
       "    <tr style=\"text-align: right;\">\n",
       "      <th></th>\n",
       "      <th>Date</th>\n",
       "      <th>Country</th>\n",
       "      <th>Confirmed</th>\n",
       "      <th>Recovered</th>\n",
       "      <th>Deaths</th>\n",
       "    </tr>\n",
       "  </thead>\n",
       "  <tbody>\n",
       "    <tr>\n",
       "      <th>0</th>\n",
       "      <td>2020-08-01</td>\n",
       "      <td>US</td>\n",
       "      <td>4620444</td>\n",
       "      <td>1461885</td>\n",
       "      <td>154447</td>\n",
       "    </tr>\n",
       "    <tr>\n",
       "      <th>1</th>\n",
       "      <td>2020-08-01</td>\n",
       "      <td>Chad</td>\n",
       "      <td>936</td>\n",
       "      <td>813</td>\n",
       "      <td>75</td>\n",
       "    </tr>\n",
       "    <tr>\n",
       "      <th>2</th>\n",
       "      <td>2020-08-01</td>\n",
       "      <td>Cuba</td>\n",
       "      <td>2633</td>\n",
       "      <td>2367</td>\n",
       "      <td>87</td>\n",
       "    </tr>\n",
       "    <tr>\n",
       "      <th>3</th>\n",
       "      <td>2020-08-01</td>\n",
       "      <td>Fiji</td>\n",
       "      <td>27</td>\n",
       "      <td>18</td>\n",
       "      <td>1</td>\n",
       "    </tr>\n",
       "    <tr>\n",
       "      <th>4</th>\n",
       "      <td>2020-08-01</td>\n",
       "      <td>Iran</td>\n",
       "      <td>306752</td>\n",
       "      <td>265830</td>\n",
       "      <td>16982</td>\n",
       "    </tr>\n",
       "  </tbody>\n",
       "</table>\n",
       "</div>"
      ],
      "text/plain": [
       "         Date Country  Confirmed  Recovered  Deaths\n",
       "0  2020-08-01      US    4620444    1461885  154447\n",
       "1  2020-08-01    Chad        936        813      75\n",
       "2  2020-08-01    Cuba       2633       2367      87\n",
       "3  2020-08-01    Fiji         27         18       1\n",
       "4  2020-08-01    Iran     306752     265830   16982"
      ]
     },
     "execution_count": 220,
     "metadata": {},
     "output_type": "execute_result"
    }
   ],
   "source": [
    "sql = \"\"\"\n",
    "SELECT\n",
    "  Date,\n",
    "  country_region AS Country,\n",
    "  sum(Confirmed) as Confirmed,\n",
    "  sum(Recovered) as Recovered,\n",
    "  sum(Deaths) as Deaths\n",
    "FROM\n",
    "  bigquery-public-data.covid19_jhu_csse.summary\n",
    "WHERE\n",
    "  Date >= '2020-08-01'\n",
    "GROUP BY \n",
    "  Date,\n",
    "  country_region\n",
    "ORDER BY\n",
    " Date\n",
    "\"\"\"\n",
    "df = client.query(sql).to_dataframe()\n",
    "df.head()"
   ]
  },
  {
   "cell_type": "markdown",
   "metadata": {
    "colab_type": "text",
    "id": "W5IKx3O-5SS7"
   },
   "source": [
    "# Exploratory Data Analytics & Time Series Forecasting \n"
   ]
  },
  {
   "cell_type": "code",
   "execution_count": 221,
   "metadata": {
    "colab": {
     "base_uri": "https://localhost:8080/",
     "height": 204
    },
    "colab_type": "code",
    "id": "yR-Z4-nV0PxS",
    "outputId": "1b5b73e3-1464-41ac-e8ba-a88a19754e6a"
   },
   "outputs": [
    {
     "data": {
      "text/html": [
       "<div>\n",
       "<style scoped>\n",
       "    .dataframe tbody tr th:only-of-type {\n",
       "        vertical-align: middle;\n",
       "    }\n",
       "\n",
       "    .dataframe tbody tr th {\n",
       "        vertical-align: top;\n",
       "    }\n",
       "\n",
       "    .dataframe thead th {\n",
       "        text-align: right;\n",
       "    }\n",
       "</style>\n",
       "<table border=\"1\" class=\"dataframe\">\n",
       "  <thead>\n",
       "    <tr style=\"text-align: right;\">\n",
       "      <th></th>\n",
       "      <th>Date</th>\n",
       "      <th>Country</th>\n",
       "      <th>Confirmed</th>\n",
       "      <th>Recovered</th>\n",
       "      <th>Deaths</th>\n",
       "    </tr>\n",
       "  </thead>\n",
       "  <tbody>\n",
       "    <tr>\n",
       "      <th>0</th>\n",
       "      <td>2020-08-01</td>\n",
       "      <td>US</td>\n",
       "      <td>4620444</td>\n",
       "      <td>1461885</td>\n",
       "      <td>154447</td>\n",
       "    </tr>\n",
       "    <tr>\n",
       "      <th>1</th>\n",
       "      <td>2020-08-01</td>\n",
       "      <td>Chad</td>\n",
       "      <td>936</td>\n",
       "      <td>813</td>\n",
       "      <td>75</td>\n",
       "    </tr>\n",
       "    <tr>\n",
       "      <th>2</th>\n",
       "      <td>2020-08-01</td>\n",
       "      <td>Cuba</td>\n",
       "      <td>2633</td>\n",
       "      <td>2367</td>\n",
       "      <td>87</td>\n",
       "    </tr>\n",
       "    <tr>\n",
       "      <th>3</th>\n",
       "      <td>2020-08-01</td>\n",
       "      <td>Fiji</td>\n",
       "      <td>27</td>\n",
       "      <td>18</td>\n",
       "      <td>1</td>\n",
       "    </tr>\n",
       "    <tr>\n",
       "      <th>4</th>\n",
       "      <td>2020-08-01</td>\n",
       "      <td>Iran</td>\n",
       "      <td>306752</td>\n",
       "      <td>265830</td>\n",
       "      <td>16982</td>\n",
       "    </tr>\n",
       "  </tbody>\n",
       "</table>\n",
       "</div>"
      ],
      "text/plain": [
       "         Date Country  Confirmed  Recovered  Deaths\n",
       "0  2020-08-01      US    4620444    1461885  154447\n",
       "1  2020-08-01    Chad        936        813      75\n",
       "2  2020-08-01    Cuba       2633       2367      87\n",
       "3  2020-08-01    Fiji         27         18       1\n",
       "4  2020-08-01    Iran     306752     265830   16982"
      ]
     },
     "execution_count": 221,
     "metadata": {},
     "output_type": "execute_result"
    }
   ],
   "source": [
    "import matplotlib.pyplot as plt\n",
    "import pandas as pd\n",
    "\n",
    "#change the path to your file location - or to BIGQUERY\n",
    "\n",
    "#covid_df = pd.read_csv('data/covid_19.csv')\n",
    "\n",
    "covid_df=df\n",
    "\n",
    "covid_df.head()"
   ]
  },
  {
   "cell_type": "markdown",
   "metadata": {
    "colab_type": "text",
    "id": "FDUtKR-G3O65"
   },
   "source": [
    "# Exploratory Data Analysis Top - 10 for August-2020"
   ]
  },
  {
   "cell_type": "code",
   "execution_count": 222,
   "metadata": {},
   "outputs": [
    {
     "name": "stdout",
     "output_type": "stream",
     "text": [
      "2020-08-01\n"
     ]
    }
   ],
   "source": [
    "import datetime\n",
    "\n",
    "date_time_obj = datetime.date(2020,8,1)\n",
    "print(date_time_obj)"
   ]
  },
  {
   "cell_type": "code",
   "execution_count": 223,
   "metadata": {
    "colab": {
     "base_uri": "https://localhost:8080/",
     "height": 221
    },
    "colab_type": "code",
    "id": "SBYlDX_LBOe6",
    "outputId": "2e40dc66-e064-47bf-d2db-910c7aa0afa3"
   },
   "outputs": [
    {
     "data": {
      "text/html": [
       "<div>\n",
       "<style scoped>\n",
       "    .dataframe tbody tr th:only-of-type {\n",
       "        vertical-align: middle;\n",
       "    }\n",
       "\n",
       "    .dataframe tbody tr th {\n",
       "        vertical-align: top;\n",
       "    }\n",
       "\n",
       "    .dataframe thead th {\n",
       "        text-align: right;\n",
       "    }\n",
       "</style>\n",
       "<table border=\"1\" class=\"dataframe\">\n",
       "  <thead>\n",
       "    <tr style=\"text-align: right;\">\n",
       "      <th></th>\n",
       "      <th>Country</th>\n",
       "      <th>Confirmed</th>\n",
       "    </tr>\n",
       "  </thead>\n",
       "  <tbody>\n",
       "    <tr>\n",
       "      <th>0</th>\n",
       "      <td>US</td>\n",
       "      <td>4620444</td>\n",
       "    </tr>\n",
       "    <tr>\n",
       "      <th>1</th>\n",
       "      <td>Brazil</td>\n",
       "      <td>2707877</td>\n",
       "    </tr>\n",
       "    <tr>\n",
       "      <th>2</th>\n",
       "      <td>India</td>\n",
       "      <td>1750723</td>\n",
       "    </tr>\n",
       "    <tr>\n",
       "      <th>3</th>\n",
       "      <td>Russia</td>\n",
       "      <td>843890</td>\n",
       "    </tr>\n",
       "    <tr>\n",
       "      <th>4</th>\n",
       "      <td>South Africa</td>\n",
       "      <td>503290</td>\n",
       "    </tr>\n",
       "    <tr>\n",
       "      <th>5</th>\n",
       "      <td>Mexico</td>\n",
       "      <td>434193</td>\n",
       "    </tr>\n",
       "    <tr>\n",
       "      <th>6</th>\n",
       "      <td>Peru</td>\n",
       "      <td>407492</td>\n",
       "    </tr>\n",
       "    <tr>\n",
       "      <th>7</th>\n",
       "      <td>Chile</td>\n",
       "      <td>357658</td>\n",
       "    </tr>\n",
       "    <tr>\n",
       "      <th>8</th>\n",
       "      <td>Iran</td>\n",
       "      <td>306752</td>\n",
       "    </tr>\n",
       "    <tr>\n",
       "      <th>9</th>\n",
       "      <td>Colombia</td>\n",
       "      <td>306181</td>\n",
       "    </tr>\n",
       "  </tbody>\n",
       "</table>\n",
       "</div>"
      ],
      "text/plain": [
       "        Country  Confirmed\n",
       "0            US    4620444\n",
       "1        Brazil    2707877\n",
       "2         India    1750723\n",
       "3        Russia     843890\n",
       "4  South Africa     503290\n",
       "5        Mexico     434193\n",
       "6          Peru     407492\n",
       "7         Chile     357658\n",
       "8          Iran     306752\n",
       "9      Colombia     306181"
      ]
     },
     "execution_count": 223,
     "metadata": {},
     "output_type": "execute_result"
    }
   ],
   "source": [
    "#top 10 countries on August-01-2020\n",
    "\n",
    "covid_df_10 = covid_df[covid_df['Date'] == date_time_obj]\n",
    "\n",
    "covid_df_top10 = covid_df_10.groupby('Country')['Confirmed'].sum().sort_values(ascending=False)[:10]\n",
    "\n",
    "covid_df_top10=covid_df_top10.to_frame()\n",
    "covid_df_top10['Confirmed']\n",
    "#covid_df_top10['Country'] = covid_df_top10.index\n",
    "covid_df_top10.reset_index(level=0, inplace=True)\n",
    "covid_df_top10\n"
   ]
  },
  {
   "cell_type": "markdown",
   "metadata": {},
   "source": [
    "# Plot the Top-10 Countries"
   ]
  },
  {
   "cell_type": "code",
   "execution_count": 224,
   "metadata": {},
   "outputs": [
    {
     "data": {
      "image/png": "[encoded data removed]",
      "text/plain": [
       "<Figure size 432x288 with 1 Axes>"
      ]
     },
     "metadata": {
      "needs_background": "light"
     },
     "output_type": "display_data"
    }
   ],
   "source": [
    "#Plot Top- 10 \n",
    "fig = plt.figure()\n",
    "ax = fig.add_axes([0,0,1,1])\n",
    "Country = covid_df_top10['Country']\n",
    "Confirmed = covid_df_top10['Confirmed']\n",
    "ax.bar(Country,Confirmed)\n",
    "plt.show()"
   ]
  },
  {
   "cell_type": "markdown",
   "metadata": {},
   "source": [
    "# Perform DataFrame Operations to filter out data for US only and date after 08-01-2020"
   ]
  },
  {
   "cell_type": "code",
   "execution_count": 225,
   "metadata": {
    "colab": {
     "base_uri": "https://localhost:8080/",
     "height": 391
    },
    "colab_type": "code",
    "id": "8FlQZYhC3clu",
    "outputId": "1a0fc26f-9242-4185-991b-efae02e1a692"
   },
   "outputs": [
    {
     "name": "stdout",
     "output_type": "stream",
     "text": [
      "            Date Country  Confirmed  Recovered  Deaths\n",
      "0     2020-08-01      US    4620444    1461885  154447\n",
      "188   2020-08-02      US    4667955    1468689  154860\n",
      "376   2020-08-03      US    4713540    1513446  155402\n",
      "564   2020-08-04      US    4771080    1528979  156801\n",
      "752   2020-08-05      US    4823890    1577851  158250\n",
      "940   2020-08-06      US    4883582    1598624  160104\n",
      "1128  2020-08-07      US    4941755    1623870  161347\n",
      "1316  2020-08-08      US    4997929    1643118  162423\n",
      "1504  2020-08-09      US    5044864    1656864  162938\n",
      "1692  2020-08-10      US    5094400    1670755  163463\n",
      "            Date Country  Confirmed  Recovered  Deaths\n",
      "7708  2020-09-11      US    6443743    2417878  192979\n",
      "7896  2020-09-12      US    6485214    2434658  193693\n",
      "8084  2020-09-13      US    6519573    2451406  194071\n",
      "8272  2020-09-14      US    6553399    2474570  194489\n",
      "8460  2020-09-15      US    6593269    2495127  195786\n",
      "8648  2020-09-16      US    6630051    2525573  196763\n",
      "8836  2020-09-17      US    6674411    2540334  197633\n",
      "9024  2020-09-18      US    6723933    2556465  198570\n",
      "9212  2020-09-19      US    6764970    2577446  199259\n",
      "9400  2020-09-20      US    6804814    2590671  199509\n"
     ]
    }
   ],
   "source": [
    "\n",
    "#filter data for USA\n",
    "\n",
    "df_usa = covid_df[covid_df['Country'] == 'US']\n",
    "df_usa = df_usa[df_usa['Date'] >= date_time_obj]\n",
    "\n",
    "print(df_usa.head(10))\n",
    "print(df_usa.tail(10))\n"
   ]
  },
  {
   "cell_type": "code",
   "execution_count": 226,
   "metadata": {
    "colab": {},
    "colab_type": "code",
    "id": "BFMyCdYU_O2w"
   },
   "outputs": [
    {
     "name": "stdout",
     "output_type": "stream",
     "text": [
      "0       08/01\n",
      "188     08/02\n",
      "376     08/03\n",
      "564     08/04\n",
      "752     08/05\n",
      "940     08/06\n",
      "1128    08/07\n",
      "1316    08/08\n",
      "1504    08/09\n",
      "1692    08/10\n",
      "1880    08/11\n",
      "2068    08/12\n",
      "2256    08/13\n",
      "2444    08/14\n",
      "2632    08/15\n",
      "2820    08/16\n",
      "3008    08/17\n",
      "3196    08/18\n",
      "3384    08/19\n",
      "3572    08/20\n",
      "3760    08/21\n",
      "3948    08/22\n",
      "4136    08/23\n",
      "4324    08/24\n",
      "4512    08/25\n",
      "4700    08/26\n",
      "4888    08/27\n",
      "5076    08/28\n",
      "5264    08/29\n",
      "5452    08/30\n",
      "5640    08/31\n",
      "5828    09/01\n",
      "6016    09/02\n",
      "6204    09/03\n",
      "6392    09/04\n",
      "6580    09/05\n",
      "6768    09/06\n",
      "6956    09/07\n",
      "7144    09/08\n",
      "7332    09/09\n",
      "7520    09/10\n",
      "7708    09/11\n",
      "7896    09/12\n",
      "8084    09/13\n",
      "8272    09/14\n",
      "8460    09/15\n",
      "8648    09/16\n",
      "8836    09/17\n",
      "9024    09/18\n",
      "9212    09/19\n",
      "9400    09/20\n",
      "Name: Date, dtype: object\n"
     ]
    }
   ],
   "source": [
    "#remove year from date \n",
    "#2020-08-01 TO 08/01\n",
    "date_formatted= pd.to_datetime(df_usa['Date']).dt.strftime('%m/%d')\n",
    "\n",
    "\n",
    "print(date_formatted)"
   ]
  },
  {
   "cell_type": "markdown",
   "metadata": {},
   "source": [
    "# Plot the Confirmed cases, and then plot the confirmed, deaths and recovered"
   ]
  },
  {
   "cell_type": "code",
   "execution_count": 227,
   "metadata": {
    "colab": {
     "base_uri": "https://localhost:8080/",
     "height": 371
    },
    "colab_type": "code",
    "id": "YFzVFzWv_73C",
    "outputId": "08f513a4-977d-46fb-97e2-42160cfb36cc"
   },
   "outputs": [
    {
     "name": "stderr",
     "output_type": "stream",
     "text": [
      "INFO:matplotlib.category:Using categorical units to plot a list of strings that are all parsable as floats or dates. If these strings should be plotted as numbers, cast to the appropriate data type before plotting.\n",
      "INFO:matplotlib.category:Using categorical units to plot a list of strings that are all parsable as floats or dates. If these strings should be plotted as numbers, cast to the appropriate data type before plotting.\n"
     ]
    },
    {
     "data": {
      "image/png": "[encoded data removed]",
      "text/plain": [
       "<Figure size 2520x648 with 1 Axes>"
      ]
     },
     "metadata": {
      "needs_background": "light"
     },
     "output_type": "display_data"
    }
   ],
   "source": [
    "#PLOT CONFIRMED CASES\n",
    "plt.figure(figsize=(35, 9))\n",
    "plt.plot(date_formatted, df_usa['Confirmed'],color='b')\n",
    "\n",
    "\n",
    "plt.title('Cases Over Time', size=20)\n",
    "plt.xlabel('Dates', size=20)\n",
    "plt.ylabel('No. of Cases', size=20)\n",
    "plt.xticks(size=15)\n",
    "plt.yticks(size=15)\n",
    "plt.show()"
   ]
  },
  {
   "cell_type": "code",
   "execution_count": 228,
   "metadata": {
    "colab": {
     "base_uri": "https://localhost:8080/",
     "height": 387
    },
    "colab_type": "code",
    "id": "ugFo9dZh-D9k",
    "outputId": "b58fa061-aa4f-4840-c422-e9b3705f8178"
   },
   "outputs": [
    {
     "name": "stderr",
     "output_type": "stream",
     "text": [
      "INFO:matplotlib.category:Using categorical units to plot a list of strings that are all parsable as floats or dates. If these strings should be plotted as numbers, cast to the appropriate data type before plotting.\n",
      "INFO:matplotlib.category:Using categorical units to plot a list of strings that are all parsable as floats or dates. If these strings should be plotted as numbers, cast to the appropriate data type before plotting.\n",
      "INFO:matplotlib.category:Using categorical units to plot a list of strings that are all parsable as floats or dates. If these strings should be plotted as numbers, cast to the appropriate data type before plotting.\n",
      "INFO:matplotlib.category:Using categorical units to plot a list of strings that are all parsable as floats or dates. If these strings should be plotted as numbers, cast to the appropriate data type before plotting.\n",
      "INFO:matplotlib.category:Using categorical units to plot a list of strings that are all parsable as floats or dates. If these strings should be plotted as numbers, cast to the appropriate data type before plotting.\n",
      "INFO:matplotlib.category:Using categorical units to plot a list of strings that are all parsable as floats or dates. If these strings should be plotted as numbers, cast to the appropriate data type before plotting.\n"
     ]
    },
    {
     "data": {
      "image/png": "[encoded data removed]",
      "text/plain": [
       "<Figure size 2520x648 with 1 Axes>"
      ]
     },
     "metadata": {
      "needs_background": "light"
     },
     "output_type": "display_data"
    }
   ],
   "source": [
    "# Plot the confirmed, deaths and recovered cases\n",
    "\n",
    "plt.figure(figsize=(35, 9))\n",
    "plt.plot(date_formatted, df_usa['Confirmed'],color='b')\n",
    "plt.plot(date_formatted, df_usa['Deaths'] ,color='r')\n",
    "plt.plot(date_formatted, df_usa['Recovered'],color='g')\n",
    "\n",
    "plt.title('Cases Over Time', size=20)\n",
    "plt.xlabel('Dates', size=50)\n",
    "plt.ylabel('No. of Cases', size=20)\n",
    "plt.xticks(size=15)\n",
    "plt.yticks(size=15)\n",
    "plt.show()"
   ]
  },
  {
   "cell_type": "markdown",
   "metadata": {
    "colab_type": "text",
    "id": "_YX6-DL-2yyL"
   },
   "source": [
    "# Import Prophet for Timeseries forecasting\n",
    "### Needs ds and y attributes for forecasting, therefore rename ds as date and Deaths as y\n"
   ]
  },
  {
   "cell_type": "code",
   "execution_count": 229,
   "metadata": {
    "colab": {
     "base_uri": "https://localhost:8080/",
     "height": 204
    },
    "colab_type": "code",
    "id": "ahLaOue-7Cbk",
    "outputId": "7b007e21-87b2-4642-a3f2-03660022b006"
   },
   "outputs": [
    {
     "data": {
      "text/html": [
       "<div>\n",
       "<style scoped>\n",
       "    .dataframe tbody tr th:only-of-type {\n",
       "        vertical-align: middle;\n",
       "    }\n",
       "\n",
       "    .dataframe tbody tr th {\n",
       "        vertical-align: top;\n",
       "    }\n",
       "\n",
       "    .dataframe thead th {\n",
       "        text-align: right;\n",
       "    }\n",
       "</style>\n",
       "<table border=\"1\" class=\"dataframe\">\n",
       "  <thead>\n",
       "    <tr style=\"text-align: right;\">\n",
       "      <th></th>\n",
       "      <th>Date</th>\n",
       "      <th>Country</th>\n",
       "      <th>Confirmed</th>\n",
       "      <th>Recovered</th>\n",
       "      <th>Deaths</th>\n",
       "    </tr>\n",
       "  </thead>\n",
       "  <tbody>\n",
       "    <tr>\n",
       "      <th>0</th>\n",
       "      <td>2020-08-01</td>\n",
       "      <td>US</td>\n",
       "      <td>4620444</td>\n",
       "      <td>1461885</td>\n",
       "      <td>154447</td>\n",
       "    </tr>\n",
       "    <tr>\n",
       "      <th>188</th>\n",
       "      <td>2020-08-02</td>\n",
       "      <td>US</td>\n",
       "      <td>4667955</td>\n",
       "      <td>1468689</td>\n",
       "      <td>154860</td>\n",
       "    </tr>\n",
       "    <tr>\n",
       "      <th>376</th>\n",
       "      <td>2020-08-03</td>\n",
       "      <td>US</td>\n",
       "      <td>4713540</td>\n",
       "      <td>1513446</td>\n",
       "      <td>155402</td>\n",
       "    </tr>\n",
       "    <tr>\n",
       "      <th>564</th>\n",
       "      <td>2020-08-04</td>\n",
       "      <td>US</td>\n",
       "      <td>4771080</td>\n",
       "      <td>1528979</td>\n",
       "      <td>156801</td>\n",
       "    </tr>\n",
       "    <tr>\n",
       "      <th>752</th>\n",
       "      <td>2020-08-05</td>\n",
       "      <td>US</td>\n",
       "      <td>4823890</td>\n",
       "      <td>1577851</td>\n",
       "      <td>158250</td>\n",
       "    </tr>\n",
       "  </tbody>\n",
       "</table>\n",
       "</div>"
      ],
      "text/plain": [
       "           Date Country  Confirmed  Recovered  Deaths\n",
       "0    2020-08-01      US    4620444    1461885  154447\n",
       "188  2020-08-02      US    4667955    1468689  154860\n",
       "376  2020-08-03      US    4713540    1513446  155402\n",
       "564  2020-08-04      US    4771080    1528979  156801\n",
       "752  2020-08-05      US    4823890    1577851  158250"
      ]
     },
     "execution_count": 229,
     "metadata": {},
     "output_type": "execute_result"
    }
   ],
   "source": [
    "df_usa.head()"
   ]
  },
  {
   "cell_type": "markdown",
   "metadata": {},
   "source": [
    "# Install the fbprophet library, then import the same"
   ]
  },
  {
   "cell_type": "code",
   "execution_count": 230,
   "metadata": {},
   "outputs": [
    {
     "name": "stdout",
     "output_type": "stream",
     "text": [
      "Requirement already satisfied: fbprophet in /opt/conda/lib/python3.7/site-packages (0.6)\n",
      "Requirement already satisfied: Cython>=0.22 in /opt/conda/lib/python3.7/site-packages (from fbprophet) (0.29.21)\n",
      "Requirement already satisfied: cmdstanpy==0.4 in /opt/conda/lib/python3.7/site-packages (from fbprophet) (0.4.0)\n",
      "Requirement already satisfied: pystan>=2.14 in /opt/conda/lib/python3.7/site-packages (from fbprophet) (2.19.1.1)\n",
      "Requirement already satisfied: numpy>=1.10.0 in /opt/conda/lib/python3.7/site-packages (from fbprophet) (1.18.5)\n",
      "Requirement already satisfied: pandas>=0.23.4 in /opt/conda/lib/python3.7/site-packages (from fbprophet) (1.0.5)\n",
      "Requirement already satisfied: matplotlib>=2.0.0 in /opt/conda/lib/python3.7/site-packages (from fbprophet) (3.3.0)\n",
      "Requirement already satisfied: LunarCalendar>=0.0.9 in /opt/conda/lib/python3.7/site-packages (from fbprophet) (0.0.9)\n",
      "Requirement already satisfied: convertdate>=2.1.2 in /opt/conda/lib/python3.7/site-packages (from fbprophet) (2.2.1)\n",
      "Requirement already satisfied: holidays>=0.9.5 in /opt/conda/lib/python3.7/site-packages (from fbprophet) (0.10.3)\n",
      "Requirement already satisfied: setuptools-git>=1.2 in /opt/conda/lib/python3.7/site-packages (from fbprophet) (1.2)\n",
      "Requirement already satisfied: python-dateutil>=2.8.0 in /opt/conda/lib/python3.7/site-packages (from fbprophet) (2.8.1)\n",
      "Requirement already satisfied: pytz>=2017.2 in /opt/conda/lib/python3.7/site-packages (from pandas>=0.23.4->fbprophet) (2020.1)\n",
      "Requirement already satisfied: kiwisolver>=1.0.1 in /opt/conda/lib/python3.7/site-packages (from matplotlib>=2.0.0->fbprophet) (1.2.0)\n",
      "Requirement already satisfied: pillow>=6.2.0 in /opt/conda/lib/python3.7/site-packages (from matplotlib>=2.0.0->fbprophet) (7.2.0)\n",
      "Requirement already satisfied: pyparsing!=2.0.4,!=2.1.2,!=2.1.6,>=2.0.3 in /opt/conda/lib/python3.7/site-packages (from matplotlib>=2.0.0->fbprophet) (2.4.7)\n",
      "Requirement already satisfied: cycler>=0.10 in /opt/conda/lib/python3.7/site-packages (from matplotlib>=2.0.0->fbprophet) (0.10.0)\n",
      "Requirement already satisfied: ephem>=3.7.5.3 in /opt/conda/lib/python3.7/site-packages (from LunarCalendar>=0.0.9->fbprophet) (3.7.7.1)\n",
      "Requirement already satisfied: pymeeus<=1,>=0.3.6 in /opt/conda/lib/python3.7/site-packages (from convertdate>=2.1.2->fbprophet) (0.3.7)\n",
      "Requirement already satisfied: six in /opt/conda/lib/python3.7/site-packages (from holidays>=0.9.5->fbprophet) (1.15.0)\n",
      "Requirement already satisfied: korean-lunar-calendar in /opt/conda/lib/python3.7/site-packages (from holidays>=0.9.5->fbprophet) (0.2.1)\n"
     ]
    }
   ],
   "source": [
    "!pip install fbprophet"
   ]
  },
  {
   "cell_type": "code",
   "execution_count": 231,
   "metadata": {
    "colab": {
     "base_uri": "https://localhost:8080/",
     "height": 204
    },
    "colab_type": "code",
    "id": "rmeCBmT1Mzwy",
    "outputId": "b2f75272-8947-4dc2-8788-1e70f8ee56fd"
   },
   "outputs": [
    {
     "data": {
      "text/html": [
       "<div>\n",
       "<style scoped>\n",
       "    .dataframe tbody tr th:only-of-type {\n",
       "        vertical-align: middle;\n",
       "    }\n",
       "\n",
       "    .dataframe tbody tr th {\n",
       "        vertical-align: top;\n",
       "    }\n",
       "\n",
       "    .dataframe thead th {\n",
       "        text-align: right;\n",
       "    }\n",
       "</style>\n",
       "<table border=\"1\" class=\"dataframe\">\n",
       "  <thead>\n",
       "    <tr style=\"text-align: right;\">\n",
       "      <th></th>\n",
       "      <th>ds</th>\n",
       "      <th>y</th>\n",
       "    </tr>\n",
       "  </thead>\n",
       "  <tbody>\n",
       "    <tr>\n",
       "      <th>8648</th>\n",
       "      <td>2020-09-16</td>\n",
       "      <td>196763</td>\n",
       "    </tr>\n",
       "    <tr>\n",
       "      <th>8836</th>\n",
       "      <td>2020-09-17</td>\n",
       "      <td>197633</td>\n",
       "    </tr>\n",
       "    <tr>\n",
       "      <th>9024</th>\n",
       "      <td>2020-09-18</td>\n",
       "      <td>198570</td>\n",
       "    </tr>\n",
       "    <tr>\n",
       "      <th>9212</th>\n",
       "      <td>2020-09-19</td>\n",
       "      <td>199259</td>\n",
       "    </tr>\n",
       "    <tr>\n",
       "      <th>9400</th>\n",
       "      <td>2020-09-20</td>\n",
       "      <td>199509</td>\n",
       "    </tr>\n",
       "  </tbody>\n",
       "</table>\n",
       "</div>"
      ],
      "text/plain": [
       "              ds       y\n",
       "8648  2020-09-16  196763\n",
       "8836  2020-09-17  197633\n",
       "9024  2020-09-18  198570\n",
       "9212  2020-09-19  199259\n",
       "9400  2020-09-20  199509"
      ]
     },
     "execution_count": 231,
     "metadata": {},
     "output_type": "execute_result"
    }
   ],
   "source": [
    "#import the required libraries\n",
    "\n",
    "from fbprophet import Prophet\n",
    "\n",
    "deaths = df_usa.iloc[:,[0,4]] #pd.to_datetime(deaths['ds'])\n",
    "\n",
    "#Rename the column Date to ds, and Deaths to y\n",
    "deaths = deaths.rename(columns={'Date':'ds','Deaths':'y'})\n",
    "deaths.tail()\n"
   ]
  },
  {
   "cell_type": "markdown",
   "metadata": {},
   "source": [
    "# Train the fbprophet model based on US data only. \n",
    "In particular, we assume that the average frequency and magnitude of trend changes in the future will be the same as that which we observe in the history. We project these trend changes forward and by computing their distribution we obtain uncertainty intervals. \n",
    "While predicting a value of something using Prophet we get not only the estimated value but also the lower and upper bound of the uncertainty interval. To make them more useful for us, we should dig a little bit into the details and see how Prophet produces them."
   ]
  },
  {
   "cell_type": "code",
   "execution_count": 232,
   "metadata": {
    "colab": {
     "base_uri": "https://localhost:8080/",
     "height": 348
    },
    "colab_type": "code",
    "id": "qQ1N_9qdSLV1",
    "outputId": "4b0db826-749c-4aad-d215-4f08484e9992"
   },
   "outputs": [
    {
     "name": "stderr",
     "output_type": "stream",
     "text": [
      "INFO:fbprophet:Disabling yearly seasonality. Run prophet with yearly_seasonality=True to override this.\n",
      "INFO:fbprophet:Disabling daily seasonality. Run prophet with daily_seasonality=True to override this.\n"
     ]
    },
    {
     "data": {
      "text/html": [
       "<div>\n",
       "<style scoped>\n",
       "    .dataframe tbody tr th:only-of-type {\n",
       "        vertical-align: middle;\n",
       "    }\n",
       "\n",
       "    .dataframe tbody tr th {\n",
       "        vertical-align: top;\n",
       "    }\n",
       "\n",
       "    .dataframe thead th {\n",
       "        text-align: right;\n",
       "    }\n",
       "</style>\n",
       "<table border=\"1\" class=\"dataframe\">\n",
       "  <thead>\n",
       "    <tr style=\"text-align: right;\">\n",
       "      <th></th>\n",
       "      <th>ds</th>\n",
       "    </tr>\n",
       "  </thead>\n",
       "  <tbody>\n",
       "    <tr>\n",
       "      <th>50</th>\n",
       "      <td>2020-09-20</td>\n",
       "    </tr>\n",
       "    <tr>\n",
       "      <th>51</th>\n",
       "      <td>2020-09-21</td>\n",
       "    </tr>\n",
       "    <tr>\n",
       "      <th>52</th>\n",
       "      <td>2020-09-22</td>\n",
       "    </tr>\n",
       "    <tr>\n",
       "      <th>53</th>\n",
       "      <td>2020-09-23</td>\n",
       "    </tr>\n",
       "    <tr>\n",
       "      <th>54</th>\n",
       "      <td>2020-09-24</td>\n",
       "    </tr>\n",
       "    <tr>\n",
       "      <th>55</th>\n",
       "      <td>2020-09-25</td>\n",
       "    </tr>\n",
       "    <tr>\n",
       "      <th>56</th>\n",
       "      <td>2020-09-26</td>\n",
       "    </tr>\n",
       "    <tr>\n",
       "      <th>57</th>\n",
       "      <td>2020-09-27</td>\n",
       "    </tr>\n",
       "  </tbody>\n",
       "</table>\n",
       "</div>"
      ],
      "text/plain": [
       "           ds\n",
       "50 2020-09-20\n",
       "51 2020-09-21\n",
       "52 2020-09-22\n",
       "53 2020-09-23\n",
       "54 2020-09-24\n",
       "55 2020-09-25\n",
       "56 2020-09-26\n",
       "57 2020-09-27"
      ]
     },
     "execution_count": 232,
     "metadata": {},
     "output_type": "execute_result"
    }
   ],
   "source": [
    "m = Prophet(interval_width=0.95)\n",
    "m.fit(deaths)\n",
    "\n",
    "future = m.make_future_dataframe(periods=7)\n",
    "future.tail(8)"
   ]
  },
  {
   "cell_type": "markdown",
   "metadata": {
    "colab_type": "text",
    "id": "yyNGK9Pe3EAM"
   },
   "source": [
    "# Time series forecasted values \n"
   ]
  },
  {
   "cell_type": "code",
   "execution_count": 233,
   "metadata": {
    "colab": {
     "base_uri": "https://localhost:8080/",
     "height": 266
    },
    "colab_type": "code",
    "id": "f_NYRkLPVyVg",
    "outputId": "c9a26cc7-c258-470f-d322-f6213d296732"
   },
   "outputs": [
    {
     "data": {
      "text/html": [
       "<div>\n",
       "<style scoped>\n",
       "    .dataframe tbody tr th:only-of-type {\n",
       "        vertical-align: middle;\n",
       "    }\n",
       "\n",
       "    .dataframe tbody tr th {\n",
       "        vertical-align: top;\n",
       "    }\n",
       "\n",
       "    .dataframe thead th {\n",
       "        text-align: right;\n",
       "    }\n",
       "</style>\n",
       "<table border=\"1\" class=\"dataframe\">\n",
       "  <thead>\n",
       "    <tr style=\"text-align: right;\">\n",
       "      <th></th>\n",
       "      <th>ds</th>\n",
       "      <th>yhat</th>\n",
       "      <th>yhat_lower</th>\n",
       "      <th>yhat_upper</th>\n",
       "    </tr>\n",
       "  </thead>\n",
       "  <tbody>\n",
       "    <tr>\n",
       "      <th>51</th>\n",
       "      <td>2020-09-21</td>\n",
       "      <td>200125.0</td>\n",
       "      <td>199911.0</td>\n",
       "      <td>200316.0</td>\n",
       "    </tr>\n",
       "    <tr>\n",
       "      <th>52</th>\n",
       "      <td>2020-09-22</td>\n",
       "      <td>201149.0</td>\n",
       "      <td>200886.0</td>\n",
       "      <td>201421.0</td>\n",
       "    </tr>\n",
       "    <tr>\n",
       "      <th>53</th>\n",
       "      <td>2020-09-23</td>\n",
       "      <td>202287.0</td>\n",
       "      <td>201857.0</td>\n",
       "      <td>202677.0</td>\n",
       "    </tr>\n",
       "    <tr>\n",
       "      <th>54</th>\n",
       "      <td>2020-09-24</td>\n",
       "      <td>203286.0</td>\n",
       "      <td>202640.0</td>\n",
       "      <td>203875.0</td>\n",
       "    </tr>\n",
       "    <tr>\n",
       "      <th>55</th>\n",
       "      <td>2020-09-25</td>\n",
       "      <td>204276.0</td>\n",
       "      <td>203433.0</td>\n",
       "      <td>205130.0</td>\n",
       "    </tr>\n",
       "    <tr>\n",
       "      <th>56</th>\n",
       "      <td>2020-09-26</td>\n",
       "      <td>205079.0</td>\n",
       "      <td>203987.0</td>\n",
       "      <td>206205.0</td>\n",
       "    </tr>\n",
       "    <tr>\n",
       "      <th>57</th>\n",
       "      <td>2020-09-27</td>\n",
       "      <td>205401.0</td>\n",
       "      <td>204009.0</td>\n",
       "      <td>206789.0</td>\n",
       "    </tr>\n",
       "  </tbody>\n",
       "</table>\n",
       "</div>"
      ],
      "text/plain": [
       "           ds      yhat  yhat_lower  yhat_upper\n",
       "51 2020-09-21  200125.0    199911.0    200316.0\n",
       "52 2020-09-22  201149.0    200886.0    201421.0\n",
       "53 2020-09-23  202287.0    201857.0    202677.0\n",
       "54 2020-09-24  203286.0    202640.0    203875.0\n",
       "55 2020-09-25  204276.0    203433.0    205130.0\n",
       "56 2020-09-26  205079.0    203987.0    206205.0\n",
       "57 2020-09-27  205401.0    204009.0    206789.0"
      ]
     },
     "execution_count": 233,
     "metadata": {},
     "output_type": "execute_result"
    }
   ],
   "source": [
    "forecast = m.predict(future)\n",
    "\n",
    "forecast = forecast.round(0)\n",
    "forecast[['ds', 'yhat', 'yhat_lower', 'yhat_upper']].tail(7)"
   ]
  },
  {
   "cell_type": "markdown",
   "metadata": {
    "colab_type": "text",
    "id": "nEOZn-Tq3HuB"
   },
   "source": [
    "# Plotting the forecasted values \n"
   ]
  },
  {
   "cell_type": "code",
   "execution_count": 234,
   "metadata": {
    "colab": {
     "base_uri": "https://localhost:8080/",
     "height": 441
    },
    "colab_type": "code",
    "id": "hoWc261xWOef",
    "outputId": "2bf8265d-df99-41a4-ea93-2ee5cdced682"
   },
   "outputs": [
    {
     "data": {
      "image/png": "[encoded data removed]",
      "text/plain": [
       "<Figure size 720x432 with 1 Axes>"
      ]
     },
     "metadata": {},
     "output_type": "display_data"
    }
   ],
   "source": [
    "deaths_forecast_plot = m.plot(forecast)"
   ]
  },
  {
   "cell_type": "markdown",
   "metadata": {},
   "source": [
    "# Save the model for future purposes"
   ]
  },
  {
   "cell_type": "code",
   "execution_count": 235,
   "metadata": {},
   "outputs": [],
   "source": [
    "import pickle"
   ]
  },
  {
   "cell_type": "code",
   "execution_count": 236,
   "metadata": {},
   "outputs": [],
   "source": [
    "# save the model to disk\n",
    "filename = 'finalized_model.pb'\n",
    "pickle.dump(m, open(filename, 'wb'))"
   ]
  }
 ],
 "metadata": {
  "colab": {
   "collapsed_sections": [],
   "name": "Covid-19 Deaths Prediction (Time Series - Prophet).ipynb",
   "provenance": []
  },
  "environment": {
   "name": "common-cpu.m54",
   "type": "gcloud",
   "uri": "gcr.io/deeplearning-platform-release/base-cpu:m54"
  },
  "kernelspec": {
   "display_name": "Python 3",
   "language": "python",
   "name": "python3"
  },
  "language_info": {
   "codemirror_mode": {
    "name": "ipython",
    "version": 3
   },
   "file_extension": ".py",
   "mimetype": "text/x-python",
   "name": "python",
   "nbconvert_exporter": "python",
   "pygments_lexer": "ipython3",
   "version": "3.7.8"
  }
 },
 "nbformat": 4,
 "nbformat_minor": 4
}
